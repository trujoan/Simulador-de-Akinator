{
  "nbformat": 4,
  "nbformat_minor": 0,
  "metadata": {
    "colab": {
      "provenance": [],
      "include_colab_link": true
    },
    "kernelspec": {
      "name": "python3",
      "display_name": "Python 3"
    },
    "language_info": {
      "name": "python"
    }
  },
  "cells": [
    {
      "cell_type": "markdown",
      "metadata": {
        "id": "view-in-github",
        "colab_type": "text"
      },
      "source": [
        "<a href=\"https://colab.research.google.com/github/trujoan/Simulador-de-Akinator/blob/main/Prueba_Akinator.ipynb\" target=\"_parent\"><img src=\"https://colab.research.google.com/assets/colab-badge.svg\" alt=\"Open In Colab\"/></a>"
      ]
    },
    {
      "cell_type": "markdown",
      "source": [
        "Consiste en un genio que puede adivinar qué personaje está pensando el usuario, sea real o no, a través de preguntas sobre las características del mismo."
      ],
      "metadata": {
        "id": "aqG-K-Hs9EhR"
      }
    },
    {
      "cell_type": "code",
      "execution_count": 4,
      "metadata": {
        "id": "_0vrhdOVQIhT",
        "colab": {
          "base_uri": "https://localhost:8080/"
        },
        "outputId": "e3ee30c0-d5fd-40aa-f053-24780143f792"
      },
      "outputs": [
        {
          "output_type": "stream",
          "name": "stdout",
          "text": [
            "¿Es hombre? (si/no): no\n",
            "Personas posibles restantes: 5\n",
            "- A2\n",
            "- A8\n",
            "- A10\n",
            "- A11\n",
            "- A15\n",
            "¿Tiene el cabello oscuro? (si/no): no\n",
            "Personas posibles restantes: 1\n",
            "- A2\n",
            "La persona que estás pensando es: A2\n"
          ]
        }
      ],
      "source": [
        "# Lista de personas con características\n",
        "personas = [\n",
        "    {\"nombre\": \"A1\", \"genero\": \"hombre\", \"edad\": 30, \"enfasis\": \"Ing\", \"cabello\": \"oscuro\"},\n",
        "    {\"nombre\": \"A2\", \"genero\": \"mujer\", \"edad\": 25, \"enfasis\": \"Ing\", \"cabello\": \"claro\"},\n",
        "    {\"nombre\": \"A3\", \"genero\": \"hombre\", \"edad\": 20, \"enfasis\": \"Scie\", \"cabello\": \"claro\"},\n",
        "    {\"nombre\": \"A4\", \"genero\": \"hombre\", \"edad\": 24, \"enfasis\": \"Ing\", \"cabello\": \"claro\"},\n",
        "    {\"nombre\": \"A5\", \"genero\": \"hombre\", \"edad\": 22, \"enfasis\": \"Scie\", \"cabello\": \"oscuro\"},\n",
        "    {\"nombre\": \"A6\", \"genero\": \"hombre\", \"edad\": 33, \"enfasis\": \"RRHH\", \"cabello\": \"claro\"},\n",
        "    {\"nombre\": \"A7\", \"genero\": \"hombre\", \"edad\": 32, \"enfasis\": \"SST\", \"cabello\": \"oscuro\"},\n",
        "    {\"nombre\": \"A8\", \"genero\": \"mujer\", \"edad\": 31, \"enfasis\": \"Hum\", \"cabello\": \"oscuro\"},\n",
        "    {\"nombre\": \"A9\", \"genero\": \"hombre\", \"edad\": 50, \"enfasis\": \"Ing\", \"cabello\": \"claro\"},\n",
        "    {\"nombre\": \"A10\", \"genero\": \"mujer\", \"edad\": 40, \"enfasis\": \"Ing\", \"cabello\": \"oscuro\"},\n",
        "    {\"nombre\": \"A11\", \"genero\": \"mujer\", \"edad\": 35, \"enfasis\": \"Hum\", \"cabello\": \"oscuro\"},\n",
        "    {\"nombre\": \"A12\", \"genero\": \"hombre\", \"edad\": 20, \"enfasis\": \"SST\", \"cabello\": \"oscuro\"},\n",
        "    {\"nombre\": \"A13\", \"genero\": \"hombre\", \"edad\": 22, \"enfasis\": \"RRHH\", \"cabello\": \"oscuro\"},\n",
        "    {\"nombre\": \"A14\", \"genero\": \"hombre\", \"edad\": 23, \"enfasis\": \"QA\", \"cabello\": \"claro\"},\n",
        "    {\"nombre\": \"A15\", \"genero\": \"mujer\", \"edad\": 25, \"enfasis\": \"QA\", \"cabello\": \"oscuro\"},\n",
        "    # (lista continúa de personas)\n",
        "]\n",
        "\n",
        "# Función principal del juego Akinator\n",
        "def juego_akinator(personas):\n",
        "    # Preguntas y atributos que queremos evaluar\n",
        "    preguntas = [\n",
        "        {\"texto\": \"¿Es hombre?\", \"atributo\": \"genero\", \"valor\": \"hombre\"},\n",
        "        {\"texto\": \"¿Tiene el cabello oscuro?\", \"atributo\": \"cabello\", \"valor\": \"oscuro\"},\n",
        "        {\"texto\": \"¿Tiene 20 años?\", \"atributo\": \"edad\", \"valor\": 20},\n",
        "        {\"texto\": \"¿Es de humanidades?\", \"atributo\": \"enfasis\", \"valor\": \"Hum\"},\n",
        "        {\"texto\": \"¿Es de ingeniería?\", \"atributo\": \"enfasis\", \"valor\": \"Ing\"},\n",
        "\n",
        "    ]\n",
        "\n",
        "    # Crear una copia de la lista de personas posibles para ir reduciendo\n",
        "    personas_posibles = personas.copy()\n",
        "\n",
        "    # Iterar sobre las preguntas para filtrar las personas posibles\n",
        "    for pregunta in preguntas:\n",
        "        # Si ya queda una sola persona, salimos del bucle\n",
        "        if len(personas_posibles) == 1:\n",
        "            break\n",
        "\n",
        "        # Hacer la pregunta al usuario\n",
        "        respuesta = input(pregunta[\"texto\"] + \" (si/no): \").strip().lower()\n",
        "\n",
        "        # Filtrar las personas en base a la respuesta\n",
        "        if respuesta == \"si\":\n",
        "            # Mantener solo las personas que cumplen con el valor de la pregunta\n",
        "            personas_posibles = [p for p in personas_posibles if p[pregunta[\"atributo\"]] == pregunta[\"valor\"]]\n",
        "        elif respuesta == \"no\":\n",
        "            # Eliminar las personas que cumplen con el valor de la pregunta\n",
        "            personas_posibles = [p for p in personas_posibles if p[pregunta[\"atributo\"]] != pregunta[\"valor\"]]\n",
        "        else:\n",
        "            print(\"Respuesta inválida. Por favor responde 'si' o 'no'.\")\n",
        "            continue  # Volver a hacer la misma pregunta si la respuesta es inválida\n",
        "\n",
        "        # Mostrar cuántas personas quedan después de la pregunta\n",
        "        print(f\"Personas posibles restantes: {len(personas_posibles)}\")\n",
        "        for p in personas_posibles:\n",
        "            print(f\"- {p['nombre']}\")\n",
        "\n",
        "        # Si no quedan personas, salimos del bucle\n",
        "        if len(personas_posibles) == 0:\n",
        "            print(\"No se encontraron coincidencias.\")\n",
        "            return\n",
        "\n",
        "    # Mostrar el resultado final\n",
        "    if len(personas_posibles) == 1:\n",
        "        print(f\"La persona que estás pensando es: {personas_posibles[0]['nombre']}\")\n",
        "    else:\n",
        "        print(\"No se pudo determinar con certeza quién es la persona.\")\n",
        "\n",
        "# Iniciar el juego\n",
        "juego_akinator(personas)"
      ]
    }
  ]
}